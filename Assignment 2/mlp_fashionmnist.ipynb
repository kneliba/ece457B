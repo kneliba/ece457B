{
 "cells": [
  {
   "cell_type": "markdown",
   "metadata": {},
   "source": [
    "# Applying MLPs to Fashion-MNIST dataset\n",
    "\n",
    "In this tutorial, we will work on creating a multi-layer perceptron to classify 10 categories of clothing from the fashion MNIST dataset using Tensorflow and Keras."
   ]
  },
  {
   "cell_type": "code",
   "execution_count": null,
   "metadata": {},
   "outputs": [],
   "source": [
    "# import required packages\n",
    "import numpy as np\n",
    "import matplotlib.pyplot as plt\n",
    "import tensorflow.keras as keras\n",
    "# make it easier to understand by importing the required libraries within keras\n",
    "from tensorflow.keras.layers import Dense, Flatten"
   ]
  },
  {
   "cell_type": "markdown",
   "metadata": {},
   "source": [
    "## Step 1: Load and explore the dataset\n",
    "First step is to load the MNIST dataset. Keras has functions to directly download some famous __[datasets](https://www.tensorflow.org/api_docs/python/tf/keras/datasets)__. The first time you run this command, it will install the dataset. \n",
    "\n",
    "The dataset contains 70,000 samples of clothing articles. Each sample is a single channel (i.e. grayscale) 28x28 (pixels) image of a particular category of clothing.\n",
    "\n",
    "We have 10 classes, for the digits from 0 to 9. More information on the dataset can be found in __[Kaggle Fashion-MNIST dataset](https://www.kaggle.com/zalando-research/fashionmnist)__"
   ]
  },
  {
   "cell_type": "code",
   "execution_count": 2,
   "metadata": {},
   "outputs": [
    {
     "name": "stdout",
     "output_type": "stream",
     "text": [
      "Training set shape: (60000, 28, 28)\n",
      "Training labels shape: (60000,)\n",
      "Test set shape: (10000, 28, 28)\n",
      "Test labels shape: (10000,)\n"
     ]
    }
   ],
   "source": [
    "(x_train, y_train), (x_test, y_test) = keras.datasets.fashion_mnist.load_data()\n",
    "\n",
    "# explore the dataset\n",
    "print('Training set shape: {}'.format(x_train.shape))\n",
    "print('Training labels shape: {}'.format(y_train.shape))\n",
    "print('Test set shape: {}'.format(x_test.shape))\n",
    "print('Test labels shape: {}'.format(y_test.shape))"
   ]
  },
  {
   "cell_type": "markdown",
   "metadata": {},
   "source": [
    "As we can see, the training set has 60k images while the test set has 10k.\n",
    "\n",
    "Let us have a closer look at the dataset before we start working with it. It is always a good practice to check the size, the range of values for the input and output, and visualize a few samples.\n",
    "\n",
    "It is also a good idea to check the format of the labels. They may be given as integers of on-hot encoded vectors."
   ]
  },
  {
   "cell_type": "code",
   "execution_count": 3,
   "metadata": {},
   "outputs": [
    {
     "name": "stdout",
     "output_type": "stream",
     "text": [
      "Sample labels are: [9 0 0 3 0 2 7 2 5 5 0 9 5 5 7 9 1 0 6 4]\n",
      "The classes are: {0, 1, 2, 3, 4, 5, 6, 7, 8, 9}\n",
      "The values in the input data range from 0 to 255\n"
     ]
    },
    {
     "data": {
      "image/png": "[encoded data removed]",
      "text/plain": [
       "<Figure size 432x288 with 10 Axes>"
      ]
     },
     "metadata": {
      "needs_background": "light"
     },
     "output_type": "display_data"
    }
   ],
   "source": [
    "labels = set(y_train)\n",
    "\n",
    "class_names = ['T-shirt/top', 'Trouser', 'Pullover', 'Dress', 'Coat',\n",
    "               'Sandal', 'Shirt', 'Sneaker', 'Bag', 'Ankle boot']\n",
    "\n",
    "print('Sample labels are: {}'.format(y_train[:20]))\n",
    "print('The classes are: {}'.format(labels))\n",
    "print('The values in the input data range from {} to {}'.format(x_train.min(),x_train.max()))\n",
    "\n",
    "# Visualize a sample from each class\n",
    "i = 0\n",
    "for label in labels:\n",
    "    imgs = x_test[y_test==label]\n",
    "    img = imgs[0]\n",
    "    \n",
    "    # plot\n",
    "    plt.subplot(2,5,i+1)\n",
    "    plt.imshow(img, cmap='gray')\n",
    "    plt.title(class_names[label])\n",
    "    plt.axis('off')\n",
    "    plt.subplots_adjust(wspace = 0.4)\n",
    "    i+=1\n"
   ]
  },
  {
   "cell_type": "markdown",
   "metadata": {},
   "source": [
    "We have 10 classes just like those in the original MNIST dataset. The values of the input range from 0-255.\n",
    "\n",
    "In this example, we will normalize using min-max normalization which will set all our values to have a minimum of 0 and a maximum of one.\n",
    "\n",
    "$x_{i}' = \\frac{x_{i}-min(x)}{max(x)-min(x)}$\n",
    "\n",
    "Where x is the feature (column). We already know that the minimum value is 0 and the maximum is 255 for all features, so we'll directly apply that in our equation. \n",
    "\n",
    "An alternative would be to use __[MinMax scaler from sklearn](https://scikit-learn.org/stable/modules/generated/sklearn.preprocessing.minmax_scale.html#sklearn.preprocessing.minmax_scale)__."
   ]
  },
  {
   "cell_type": "code",
   "execution_count": 4,
   "metadata": {},
   "outputs": [
    {
     "name": "stdout",
     "output_type": "stream",
     "text": [
      "The values in the input data range from 0.0 to 1.0\n"
     ]
    }
   ],
   "source": [
    "x_train = x_train.astype(float)/255\n",
    "x_test = x_test.astype(float)/255\n",
    "print('The values in the input data range from {} to {}'.format(x_train.min(),x_train.max()))"
   ]
  },
  {
   "cell_type": "markdown",
   "metadata": {},
   "source": [
    "We will be using softmax as the activation function in the last layer, which outputs our labels one-hot encoded. Generally, we should convert our input labels to the same format. \n",
    "\n",
    "Although tf and keras do that automatically and this is not required in this example, we will go ahead with it to conform to the general case. "
   ]
  },
  {
   "cell_type": "code",
   "execution_count": 5,
   "metadata": {},
   "outputs": [
    {
     "name": "stdout",
     "output_type": "stream",
     "text": [
      "(60000, 10) (10000, 10)\n",
      "[[0. 0. 0. 0. 0. 0. 0. 0. 0. 1.]\n",
      " [1. 0. 0. 0. 0. 0. 0. 0. 0. 0.]\n",
      " [1. 0. 0. 0. 0. 0. 0. 0. 0. 0.]]\n",
      "Old labels: [9 0 0]\n"
     ]
    }
   ],
   "source": [
    "# make sure that the labels are still integers (this cell has not been run before)\n",
    "if len(y_train.shape)==1:\n",
    "    y_train = keras.utils.to_categorical(y_train, num_classes=10)\n",
    "    y_test = keras.utils.to_categorical(y_test, num_classes=10)\n",
    "print(y_train.shape, y_test.shape)\n",
    "print(y_train[0:3])\n",
    "print('Old labels: {}'.format(np.argmax(y_train[:3], axis=1)))"
   ]
  },
  {
   "cell_type": "markdown",
   "metadata": {},
   "source": [
    "## Step 2: Defining the MLP Model\n",
    "Now that we have loaded, explored, and preprocessed the dataset, we are ready to create the MLP that we will train to classify the dataset.\n",
    "\n",
    "We will use Keras Sequential API within tensorflow. The first layer should 'Flatten' the input to be one column of (28x28) 784 values. Then we expect the first Dense layer to allow for an input of size 784. \n",
    "\n",
    "For the output layer, we need to define the number of units and the type of activation function. Since we will be using a softmax activation function, then we need 10 units in the output layer.\n",
    "\n",
    "Create your own network by defining:\n",
    "1. Number hidden layers\n",
    "2. Number of neurons in each hidden layer\n",
    "3. Activation function in each layer"
   ]
  },
  {
   "cell_type": "code",
   "execution_count": null,
   "metadata": {},
   "outputs": [],
   "source": [
    "# Please define your model here"
   ]
  },
  {
   "cell_type": "markdown",
   "metadata": {},
   "source": [
    "We now have the network all set. \n",
    "\n",
    "We need to define the optimization process:\n",
    "* What is the loss function that we will try to minimize\n",
    "* What optimizer do we want to use\n",
    "* Metrics we would like to monitor during training (these do not affect the optimization)\n",
    "\n",
    "**What options do we have for the optimizer, loss function, and metrics?**:\n",
    "* __[Loss Functions](https://www.tensorflow.org/api_docs/python/tf/keras/losses)__\n",
    "* __[Metrics](https://www.tensorflow.org/api_docs/python/tf/keras/metrics)__\n",
    "* __[Optimizer](https://www.tensorflow.org/api_docs/python/tf/keras/optimizers)__\n",
    "\n",
    "To add these parameters, we will compile the model and pass them to the model."
   ]
  },
  {
   "cell_type": "code",
   "execution_count": null,
   "metadata": {},
   "outputs": [],
   "source": [
    "# choose your optimization parameters and compile the model"
   ]
  },
  {
   "cell_type": "markdown",
   "metadata": {},
   "source": [
    "## Step 3: Training the Model\n",
    "We can now begin our training."
   ]
  },
  {
   "cell_type": "markdown",
   "metadata": {},
   "source": [
    "Use the whole training set and take 25% of it as a validation set to monitor the performance.\n",
    "\n",
    "Fit and test your performance and report them"
   ]
  },
  {
   "cell_type": "code",
   "execution_count": null,
   "metadata": {},
   "outputs": [],
   "source": [
    "h = mlp.fit(x_train, y_train, epochs=10, batch_size=32, validation_split=0.25, verbose=0)"
   ]
  },
  {
   "cell_type": "code",
   "execution_count": null,
   "metadata": {},
   "outputs": [],
   "source": [
    "plt.plot(h.history['accuracy'])\n",
    "plt.plot(h.history['val_accuracy'], 'r')\n",
    "plt.legend(['train acc', 'val acc'])\n",
    "print('train acc: %.2f %% \\nval acc: %.2f %%'%(h.history['accuracy'][-1]*100,h.history['val_accuracy'][-1]*100))\n",
    "print('Test accuracy: %.2f %%'%(100*mlp.evaluate(x_test,y_test, verbose=0)[1]))"
   ]
  },
  {
   "cell_type": "markdown",
   "metadata": {},
   "source": [
    "Test it on some samples from the test set and visualize the output"
   ]
  },
  {
   "cell_type": "code",
   "execution_count": null,
   "metadata": {},
   "outputs": [],
   "source": [
    "# pick 10 random images to classify\n",
    "inds = random.sample([i for i in range(len(y_test))],10)\n",
    "\n",
    "# predict the classes for each of the picked images\n",
    "y_out = mlp.predict_classes(x_test[inds])\n",
    "\n",
    "i = 0\n",
    "for ind in inds:\n",
    "    # plot each picture along with its True Label (TL) and Predicted Label (PL)\n",
    "    img = x_test[ind]\n",
    "    plt.subplot(2,5,i+1)\n",
    "    plt.imshow(img)\n",
    "    plt.title('TL: %.f \\nPL: %.f' %(class_names[y_test[ind]],class_names[y_out[i]]))\n",
    "    plt.axis('off')\n",
    "    plt.subplots_adjust(wspace = 0.8)\n",
    "    i+=1"
   ]
  }
 ],
 "metadata": {
  "kernelspec": {
   "display_name": "Python 3.10.7 64-bit",
   "language": "python",
   "name": "python3"
  },
  "language_info": {
   "codemirror_mode": {
    "name": "ipython",
    "version": 3
   },
   "file_extension": ".py",
   "mimetype": "text/x-python",
   "name": "python",
   "nbconvert_exporter": "python",
   "pygments_lexer": "ipython3",
   "version": "3.10.7"
  },
  "vscode": {
   "interpreter": {
    "hash": "aee8b7b246df8f9039afb4144a1f6fd8d2ca17a180786b69acc140d282b71a49"
   }
  }
 },
 "nbformat": 4,
 "nbformat_minor": 2
}
