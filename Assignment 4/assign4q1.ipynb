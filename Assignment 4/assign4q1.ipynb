{
 "cells": [
  {
   "cell_type": "code",
   "execution_count": 2,
   "metadata": {},
   "outputs": [],
   "source": [
    "import numpy as np\n",
    "from sklearn import svm\n",
    "from sklearn import metrics\n",
    "from sklearn.model_selection import train_test_split\n",
    "\n",
    "import warnings\n",
    "warnings.filterwarnings('ignore')"
   ]
  },
  {
   "attachments": {},
   "cell_type": "markdown",
   "metadata": {},
   "source": [
    "Extract Data from CSV files"
   ]
  },
  {
   "cell_type": "code",
   "execution_count": 3,
   "metadata": {},
   "outputs": [
    {
     "name": "stdout",
     "output_type": "stream",
     "text": [
      "[[ 7.4    7.8    7.8   ...  6.3    5.9    6.   ]\n",
      " [ 0.7    0.88   0.76  ...  0.51   0.645  0.31 ]\n",
      " [ 0.     0.     0.04  ...  0.13   0.12   0.47 ]\n",
      " ...\n",
      " [ 0.56   0.68   0.65  ...  0.75   0.71   0.66 ]\n",
      " [ 9.4    9.8    9.8   ... 11.    10.2   11.   ]\n",
      " [ 5.     5.     5.    ...  6.     5.     6.   ]]\n",
      "[[5.]\n",
      " [5.]\n",
      " [5.]\n",
      " ...\n",
      " [6.]\n",
      " [5.]\n",
      " [6.]]\n",
      "[[0.46540881 0.44303797 0.         ... 0.87531172 0.28       0.63087248]\n",
      " [0.49056604 0.55696203 0.         ... 0.79800499 0.34       0.65771812]\n",
      " [0.49056604 0.48101266 0.04       ... 0.81296758 0.325      0.65771812]\n",
      " ...\n",
      " [0.39622642 0.32278481 0.13       ... 0.85286783 0.375      0.73825503]\n",
      " [0.37106918 0.40822785 0.12       ... 0.89027431 0.355      0.68456376]\n",
      " [0.37735849 0.19620253 0.47       ... 0.84538653 0.33       0.73825503]]\n",
      "6497\n",
      "6497\n"
     ]
    }
   ],
   "source": [
    "red_wine_data = np.loadtxt('winequality-red.csv', skiprows=1, delimiter=\";\", unpack=True)\n",
    "white_wine_data = np.loadtxt('winequality-white.csv', skiprows=1, delimiter=\";\", unpack=True)\n",
    "\n",
    "print(red_wine_data)\n",
    "red_qual = red_wine_data.T[:, [-1]]\n",
    "red_wine_data = red_wine_data.T[:, :-1]\n",
    "print(red_qual)\n",
    "\n",
    "white_qual = white_wine_data.T[:, [-1]]\n",
    "white_wine_data = white_wine_data.T[:, :-1]\n",
    "\n",
    "# normalize inputs\n",
    "red_wine_data = red_wine_data / red_wine_data.max(axis=0)\n",
    "white_wine_data = white_wine_data/ white_wine_data.max(axis=0)\n",
    "print(red_wine_data)\n",
    "\n",
    "w_input = np.concatenate([red_wine_data, white_wine_data])\n",
    "w_out = np.concatenate([red_qual,white_qual])\n",
    "\n",
    "print(len(w_input))\n",
    "print(len(w_out))\n",
    "\n",
    "# w_input = merged_data[:, :-1] #all but last column\n",
    "# w_out = merged_data[:, -1] #last column\n"
   ]
  },
  {
   "attachments": {},
   "cell_type": "markdown",
   "metadata": {},
   "source": [
    "Split training and testing data"
   ]
  },
  {
   "cell_type": "code",
   "execution_count": 4,
   "metadata": {},
   "outputs": [
    {
     "name": "stdout",
     "output_type": "stream",
     "text": [
      "5197\n",
      "1300\n",
      "5197\n"
     ]
    }
   ],
   "source": [
    "\n",
    "x_train, x_test, y_train, y_test = train_test_split(w_input, w_out, test_size = 0.2)\n",
    "\n",
    "\n",
    "print(len(x_train))\n",
    "print(len(x_test))\n",
    "print(len(y_train))"
   ]
  },
  {
   "attachments": {},
   "cell_type": "markdown",
   "metadata": {},
   "source": [
    "Build the SVM Model\n",
    "\n",
    "Linear for red:"
   ]
  },
  {
   "cell_type": "code",
   "execution_count": 4,
   "metadata": {},
   "outputs": [
    {
     "name": "stdout",
     "output_type": "stream",
     "text": [
      "C=1\n",
      "Accuracy: 0.5176923076923077\n",
      "[[  0   0   3   3   0   0   0]\n",
      " [  0   0  22  16   0   0   0]\n",
      " [  0   0 254 167   0   0   0]\n",
      " [  0   0 143 419   0   0   0]\n",
      " [  0   0  11 216   0   0   0]\n",
      " [  0   0   4  40   0   0   0]\n",
      " [  0   0   0   2   0   0   0]]\n",
      "C=10\n",
      "Accuracy: 0.5184615384615384\n",
      "[[  0   0   3   3   0   0   0]\n",
      " [  0   0  21  17   0   0   0]\n",
      " [  0   0 258 163   0   0   0]\n",
      " [  0   0 146 416   0   0   0]\n",
      " [  0   0  11 216   0   0   0]\n",
      " [  0   0   4  40   0   0   0]\n",
      " [  0   0   0   2   0   0   0]]\n",
      "C=20\n",
      "Accuracy: 0.5184615384615384\n",
      "[[  0   0   3   3   0   0   0]\n",
      " [  0   0  21  17   0   0   0]\n",
      " [  0   0 258 163   0   0   0]\n",
      " [  0   0 146 416   0   0   0]\n",
      " [  0   0  11 216   0   0   0]\n",
      " [  0   0   4  40   0   0   0]\n",
      " [  0   0   0   2   0   0   0]]\n",
      "C=30\n",
      "Accuracy: 0.5184615384615384\n",
      "[[  0   0   3   3   0   0   0]\n",
      " [  0   0  21  17   0   0   0]\n",
      " [  0   0 260 161   0   0   0]\n",
      " [  0   0 148 414   0   0   0]\n",
      " [  0   0  11 216   0   0   0]\n",
      " [  0   0   4  40   0   0   0]\n",
      " [  0   0   0   2   0   0   0]]\n"
     ]
    }
   ],
   "source": [
    "C_lin = [1,10,20,30]\n",
    "lin_acc = []\n",
    "lin_conf = []\n",
    "\n",
    "for penalty in C_lin: \n",
    "    clf = svm.SVC(kernel='linear', C=penalty)\n",
    "\n",
    "    clf.fit(x_train, y_train)\n",
    "\n",
    "    pred = clf.predict(x_test)\n",
    "    \n",
    "    lin_acc.append(metrics.accuracy_score(y_test, pred))\n",
    "    lin_conf.append(metrics.confusion_matrix(y_test, pred))\n",
    "\n",
    "    print(f\"C={penalty}\")\n",
    "    print(f\"Accuracy: {metrics.accuracy_score(y_test, pred)}\")\n",
    "    print(metrics.confusion_matrix(y_test, pred))"
   ]
  },
  {
   "cell_type": "code",
   "execution_count": 5,
   "metadata": {},
   "outputs": [
    {
     "name": "stdout",
     "output_type": "stream",
     "text": [
      "C=1\n",
      "Accuracy: 0.5261538461538462\n",
      "[[  0   0   3   3   0   0   0]\n",
      " [  0   0  21  17   0   0   0]\n",
      " [  0   0 258 163   0   0   0]\n",
      " [  0   0 138 424   0   0   0]\n",
      " [  0   0   5 220   2   0   0]\n",
      " [  0   0   0  44   0   0   0]\n",
      " [  0   0   0   2   0   0   0]]\n",
      "C=10\n",
      "Accuracy: 0.5392307692307692\n",
      "[[  0   0   3   3   0   0   0]\n",
      " [  0   1  20  15   2   0   0]\n",
      " [  0   1 254 166   0   0   0]\n",
      " [  0   0 132 421   9   0   0]\n",
      " [  0   0   3 199  25   0   0]\n",
      " [  0   0   0  37   7   0   0]\n",
      " [  0   0   0   1   1   0   0]]\n",
      "C=50\n",
      "Accuracy: 0.5453846153846154\n",
      "[[  0   0   3   3   0   0   0]\n",
      " [  0   1  22  14   1   0   0]\n",
      " [  0   2 254 163   2   0   0]\n",
      " [  0   0 131 414  17   0   0]\n",
      " [  0   0   2 185  40   0   0]\n",
      " [  0   0   0  35   9   0   0]\n",
      " [  0   0   0   0   2   0   0]]\n",
      "C=100\n",
      "Accuracy: 0.5461538461538461\n",
      "[[  0   0   3   3   0   0   0]\n",
      " [  0   1  23  13   1   0   0]\n",
      " [  1   2 259 157   2   0   0]\n",
      " [  1   0 131 406  24   0   0]\n",
      " [  0   0   6 177  44   0   0]\n",
      " [  0   0   0  34  10   0   0]\n",
      " [  0   0   0   0   2   0   0]]\n"
     ]
    }
   ],
   "source": [
    "C_poly = [1,10,50,100]\n",
    "\n",
    "poly_acc = []\n",
    "poly_conf = []\n",
    "\n",
    "for penalty in C_poly: \n",
    "    clf_p = svm.SVC(kernel='poly', C=penalty)\n",
    "\n",
    "    clf_p.fit(x_train, y_train)\n",
    "\n",
    "    pred = clf_p.predict(x_test)\n",
    "    \n",
    "    poly_acc.append(metrics.accuracy_score(y_test, pred))\n",
    "    poly_conf.append(metrics.confusion_matrix(y_test, pred))\n",
    "\n",
    "    print(f\"C={penalty}\")\n",
    "    print(f\"Accuracy: {metrics.accuracy_score(y_test, pred)}\")\n",
    "    print(metrics.confusion_matrix(y_test, pred))"
   ]
  },
  {
   "cell_type": "code",
   "execution_count": 45,
   "metadata": {},
   "outputs": [
    {
     "name": "stdout",
     "output_type": "stream",
     "text": [
      "C=1\n",
      "Accuracy: 0.5269230769230769\n",
      "[[  0   0   0   2   0   0   0]\n",
      " [  0   0  33  24   0   0   0]\n",
      " [  0   0 237 177   0   0   0]\n",
      " [  0   0 126 448   0   0   0]\n",
      " [  0   0   5 206   0   0   0]\n",
      " [  0   0   0  41   0   0   0]\n",
      " [  0   0   0   1   0   0   0]]\n",
      "C=10\n",
      "Accuracy: 0.5430769230769231\n",
      "[[  0   0   0   2   0   0   0]\n",
      " [  0   0  32  25   0   0   0]\n",
      " [  0   0 243 171   0   0   0]\n",
      " [  0   0 115 454   5   0   0]\n",
      " [  0   0   6 196   9   0   0]\n",
      " [  0   0   0  38   3   0   0]\n",
      " [  0   0   0   1   0   0   0]]\n",
      "C=50\n",
      "Accuracy: 0.5607692307692308\n",
      "[[  0   0   0   2   0   0   0]\n",
      " [  0   1  33  22   1   0   0]\n",
      " [  3   0 255 153   3   0   0]\n",
      " [  0   1 118 441  14   0   0]\n",
      " [  0   0   6 173  32   0   0]\n",
      " [  0   0   0  29  12   0   0]\n",
      " [  0   0   0   1   0   0   0]]\n",
      "C=100\n",
      "Accuracy: 0.5615384615384615\n",
      "[[  0   0   0   2   0   0   0]\n",
      " [  0   1  33  22   1   0   0]\n",
      " [  3   0 256 152   3   0   0]\n",
      " [  0   1 120 436  17   0   0]\n",
      " [  0   0   7 167  37   0   0]\n",
      " [  0   0   0  29  12   0   0]\n",
      " [  0   0   0   1   0   0   0]]\n"
     ]
    }
   ],
   "source": [
    "rbf_acc = []\n",
    "rbf_conf = []\n",
    "\n",
    "for penalty in C_poly: \n",
    "    clf_r = svm.SVC(kernel='rbf', C=penalty)\n",
    "\n",
    "    clf_r.fit(x_train, y_train)\n",
    "\n",
    "    pred = clf_r.predict(x_test)\n",
    "    \n",
    "    rbf_acc.append(metrics.accuracy_score(y_test, pred))\n",
    "    rbf_conf.append(metrics.confusion_matrix(y_test, pred))\n",
    "    \n",
    "    print(f\"C={penalty}\")\n",
    "    print(f\"Accuracy: {metrics.accuracy_score(y_test, pred)}\")\n",
    "    print(metrics.confusion_matrix(y_test, pred))\n",
    "\n"
   ]
  },
  {
   "cell_type": "code",
   "execution_count": 12,
   "metadata": {},
   "outputs": [
    {
     "name": "stdout",
     "output_type": "stream",
     "text": [
      "C=75, gamma=scale\n",
      "Accuracy: 0.5507692307692308\n",
      "C=75, gamma=auto\n",
      "Accuracy: 0.5338461538461539\n",
      "C=75, gamma=0.1\n",
      "Accuracy: 0.5338461538461539\n",
      "C=75, gamma=0.01\n",
      "Accuracy: 0.53\n",
      "C=100, gamma=scale\n",
      "Accuracy: 0.5515384615384615\n",
      "C=100, gamma=auto\n",
      "Accuracy: 0.5323076923076923\n",
      "C=100, gamma=0.1\n",
      "Accuracy: 0.5338461538461539\n",
      "C=100, gamma=0.01\n",
      "Accuracy: 0.5307692307692308\n",
      "C=125, gamma=scale\n",
      "Accuracy: 0.553076923076923\n",
      "C=125, gamma=auto\n",
      "Accuracy: 0.5338461538461539\n",
      "C=125, gamma=0.1\n",
      "Accuracy: 0.5346153846153846\n",
      "C=125, gamma=0.01\n",
      "Accuracy: 0.5307692307692308\n",
      "C=150, gamma=scale\n",
      "Accuracy: 0.5523076923076923\n",
      "C=150, gamma=auto\n",
      "Accuracy: 0.5346153846153846\n",
      "C=150, gamma=0.1\n",
      "Accuracy: 0.5330769230769231\n",
      "C=150, gamma=0.01\n",
      "Accuracy: 0.5323076923076923\n"
     ]
    }
   ],
   "source": [
    "C_tuning = [75,100,125,150]\n",
    "gamma_tuning = ['scale', 'auto', 0.1, 0.01]\n",
    "\n",
    "fin_accuracies = np.zeros((4, 4))\n",
    "\n",
    "for i in range(len(C_tuning)): \n",
    "    for j in range(len(gamma_tuning)):\n",
    "        clf_r = svm.SVC(kernel='rbf', C=C_tuning[i], gamma=gamma_tuning[j])\n",
    "\n",
    "        clf_r.fit(x_train, y_train)\n",
    "\n",
    "        pred = clf_r.predict(x_test)\n",
    "        \n",
    "        fin_accuracies[i][j] = metrics.accuracy_score(y_test, pred)\n",
    "        \n",
    "        \n",
    "        print(f\"C={C_tuning[i]}, gamma={gamma_tuning[j]}\")\n",
    "        print(f\"Accuracy: {metrics.accuracy_score(y_test, pred)}\")\n",
    "        # print(metrics.confusion_matrix(y_test, pred))"
   ]
  },
  {
   "cell_type": "code",
   "execution_count": 13,
   "metadata": {},
   "outputs": [
    {
     "name": "stdout",
     "output_type": "stream",
     "text": [
      "[[0.55076923 0.53384615 0.53384615 0.53      ]\n",
      " [0.55153846 0.53230769 0.53384615 0.53076923]\n",
      " [0.55307692 0.53384615 0.53461538 0.53076923]\n",
      " [0.55230769 0.53461538 0.53307692 0.53230769]]\n"
     ]
    }
   ],
   "source": [
    "print(fin_accuracies)"
   ]
  }
 ],
 "metadata": {
  "kernelspec": {
   "display_name": "Python 3",
   "language": "python",
   "name": "python3"
  },
  "language_info": {
   "codemirror_mode": {
    "name": "ipython",
    "version": 3
   },
   "file_extension": ".py",
   "mimetype": "text/x-python",
   "name": "python",
   "nbconvert_exporter": "python",
   "pygments_lexer": "ipython3",
   "version": "3.10.7"
  },
  "orig_nbformat": 4
 },
 "nbformat": 4,
 "nbformat_minor": 2
}
